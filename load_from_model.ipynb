{
 "cells": [
  {
   "cell_type": "code",
   "execution_count": 12,
   "metadata": {},
   "outputs": [],
   "source": [
    "#Import Necessary Packages\n",
    "import numpy as np\n",
    "import pandas as pd\n",
    "import matplotlib.pyplot as plt\n",
    "%matplotlib inline\n",
    "import os\n",
    "from PIL import Image\n",
    "import keras \n",
    "\n",
    "#Initialize Neural Network as Sequential Network\n",
    "from keras.models import Sequential\n",
    "\n",
    "from keras.models import model_from_json\n",
    "#Images are 2D arrays, so import Conv2D. If videos, import 3D with time as the third dimension\n",
    "from keras.layers import Convolution2D\n",
    "\n",
    "#Import Max Pooling because we need the highest value pixel from the area of interest\n",
    "from keras.layers import MaxPooling2D\n",
    "\n",
    "#Convert 2D arrays into a singular vector\n",
    "from keras.layers import Flatten\n",
    "\n",
    "#Perform full connection of neural network\n",
    "from keras.layers import Dense\n",
    "\n",
    "#Include random dropout nodes\n",
    "from keras.layers import Dropout\n",
    "\n",
    "#import image data generator library\n",
    "from keras.preprocessing.image import ImageDataGenerator\n",
    "\n",
    "#Image prepreprocessing\n",
    "from keras.preprocessing import image"
   ]
  },
  {
   "cell_type": "code",
   "execution_count": 13,
   "metadata": {},
   "outputs": [
    {
     "name": "stdout",
     "output_type": "stream",
     "text": [
      "Loaded model from disk\n"
     ]
    }
   ],
   "source": [
    "\n",
    "# load json and create model\n",
    "json_file = open('classifier2.json', 'r')\n",
    "loaded_model_json = json_file.read()\n",
    "json_file.close()\n",
    "loaded_model = model_from_json(loaded_model_json)\n",
    "# load weights into new model\n",
    "loaded_model.load_weights(\"classifier2.h5\")\n",
    "print(\"Loaded model from disk\")"
   ]
  },
  {
   "cell_type": "code",
   "execution_count": 4,
   "metadata": {},
   "outputs": [],
   "source": [
    "#Keep training on model?"
   ]
  },
  {
   "cell_type": "code",
   "execution_count": 5,
   "metadata": {},
   "outputs": [
    {
     "data": {
      "text/plain": [
       "'not panda'"
      ]
     },
     "execution_count": 5,
     "metadata": {},
     "output_type": "execute_result"
    },
    {
     "data": {
      "image/png": "[encoded data removed]",
      "text/plain": [
       "<Figure size 432x288 with 1 Axes>"
      ]
     },
     "metadata": {},
     "output_type": "display_data"
    }
   ],
   "source": [
    "test_image = image.load_img('animal_dataset/prediction_set/red.jpeg', target_size=(64,64))\n",
    "plt.imshow(test_image)\n",
    "test_image = image.img_to_array(test_image)\n",
    "test_image = np.expand_dims(test_image, axis=0)\n",
    "result = loaded_model.predict(test_image)\n",
    "if result[0][0] == 1:\n",
    "    prediction = 'panda'\n",
    "elif result[0][0] == 0:\n",
    "    prediction = 'not panda'\n",
    "prediction"
   ]
  },
  {
   "cell_type": "code",
   "execution_count": 15,
   "metadata": {},
   "outputs": [
    {
     "name": "stderr",
     "output_type": "stream",
     "text": [
      "/home/ec2-user/anaconda3/lib/python3.6/site-packages/PIL/Image.py:916: UserWarning: Palette images with Transparency   expressed in bytes should be converted to RGBA images\n",
      "  'to RGBA images')\n"
     ]
    },
    {
     "name": "stdout",
     "output_type": "stream",
     "text": [
      "count\n",
      "1078\n",
      "not pandas\n",
      "0\n"
     ]
    }
   ],
   "source": [
    "#Double check accuracy\n",
    "i = 0\n",
    "count = 0\n",
    "for x in os.listdir('animal_dataset/training_set/panda/'):\n",
    "    if x != '.DS_Store':\n",
    "        image_path = 'animal_dataset/training_set/panda/' + x\n",
    "\n",
    "        test_image = image.load_img(image_path, target_size=(64,64))\n",
    "\n",
    "        test_image = image.img_to_array(test_image)\n",
    "        test_image = np.expand_dims(test_image, axis=0)\n",
    "        result = loaded_model.predict(test_image)\n",
    "\n",
    "        if result[0][0] == 1:\n",
    "            prediction = 'panda'\n",
    "        elif result[0][0] == 0:\n",
    "            prediction = 'not panda'\n",
    "\n",
    "        if prediction == 'not panda':\n",
    "            i += 1\n",
    "            print(prediction)\n",
    "            print(image_path)\n",
    "        if i == 500:\n",
    "            print('count')\n",
    "            print(count)\n",
    "            print('not pandas')\n",
    "            print(i)\n",
    "            break\n",
    "        count += 1\n",
    "print('count')\n",
    "print(count)\n",
    "print('not pandas')\n",
    "print(i)"
   ]
  },
  {
   "cell_type": "code",
   "execution_count": null,
   "metadata": {},
   "outputs": [],
   "source": []
  }
 ],
 "metadata": {
  "kernelspec": {
   "display_name": "Python 3",
   "language": "python",
   "name": "python3"
  },
  "language_info": {
   "codemirror_mode": {
    "name": "ipython",
    "version": 3
   },
   "file_extension": ".py",
   "mimetype": "text/x-python",
   "name": "python",
   "nbconvert_exporter": "python",
   "pygments_lexer": "ipython3",
   "version": "3.6.4"
  }
 },
 "nbformat": 4,
 "nbformat_minor": 2
}
