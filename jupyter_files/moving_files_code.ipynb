{
 "cells": [
  {
   "cell_type": "code",
   "execution_count": 1,
   "metadata": {
    "collapsed": true
   },
   "outputs": [],
   "source": [
    "#moving files from Downloads to train and test data"
   ]
  },
  {
   "cell_type": "code",
   "execution_count": 2,
   "metadata": {
    "collapsed": true
   },
   "outputs": [],
   "source": [
    "import os"
   ]
  },
  {
   "cell_type": "code",
   "execution_count": 3,
   "metadata": {},
   "outputs": [
    {
     "name": "stderr",
     "output_type": "stream",
     "text": [
      "/Users/alvanchow/anaconda/lib/python3.6/site-packages/sklearn/cross_validation.py:41: DeprecationWarning: This module was deprecated in version 0.18 in favor of the model_selection module into which all the refactored classes and functions are moved. Also note that the interface of the new CV iterators are different from that of this module. This module will be removed in 0.20.\n",
      "  \"This module will be removed in 0.20.\", DeprecationWarning)\n"
     ]
    }
   ],
   "source": [
    "from sklearn.cross_validation import train_test_split"
   ]
  },
  {
   "cell_type": "code",
   "execution_count": 4,
   "metadata": {},
   "outputs": [
    {
     "name": "stdout",
     "output_type": "stream",
     "text": [
      "\u001b[34mnot_panda\u001b[m\u001b[m \u001b[34mpanda\u001b[m\u001b[m\r\n"
     ]
    }
   ],
   "source": [
    "!ls animal_dataset/training_set/"
   ]
  },
  {
   "cell_type": "code",
   "execution_count": 5,
   "metadata": {},
   "outputs": [
    {
     "data": {
      "text/plain": [
       "['MonkeyHead',\n",
       " 'Natural',\n",
       " 'BearHead',\n",
       " 'PigHead',\n",
       " 'CatHead',\n",
       " 'MouseHead',\n",
       " 'WolfHead',\n",
       " 'HumanHead',\n",
       " 'PigeonHead',\n",
       " 'CowHead',\n",
       " 'SheepHead',\n",
       " 'ChickenHead',\n",
       " 'TigerHead',\n",
       " 'EagleHead',\n",
       " 'RabbitHead',\n",
       " 'DogHead',\n",
       " 'DuckHead',\n",
       " 'LionHead',\n",
       " 'ElephantHead',\n",
       " 'DeerHead']"
      ]
     },
     "execution_count": 5,
     "metadata": {},
     "output_type": "execute_result"
    }
   ],
   "source": [
    "#Get all folders except Pandas, move to training_set/not_panda and val_set/not_panda\n",
    "folders = os.listdir('../../Downloads/Image/')\n",
    "folders.remove('PandaHead')\n",
    "folders"
   ]
  },
  {
   "cell_type": "code",
   "execution_count": 6,
   "metadata": {},
   "outputs": [],
   "source": [
    "#Split data into new folders, 80/20 split, without pandas folder\n",
    "for folder in folders:\n",
    "    current_path = '../../Downloads/Image/' + folder\n",
    "    current_folder = os.listdir(current_path)\n",
    "    X = y= os.listdir(current_path)\n",
    "    X_train, X_test, y_train, y_test = train_test_split(X, y, test_size=0.20, random_state=0)\n",
    "    for x in X_train:\n",
    "        os.rename(current_path+'/'+x , 'animal_dataset/training_set/not_panda/'+x)\n",
    "    for x in X_test:\n",
    "        os.rename(current_path+'/'+x , 'animal_dataset/val_set/not_panda/'+x)\n",
    "    "
   ]
  },
  {
   "cell_type": "code",
   "execution_count": 9,
   "metadata": {},
   "outputs": [],
   "source": [
    "# Now download panda pictures for class imbalance\n",
    "# Currently 1800 not pandas and 120 pandas \n",
    "# googleimagesdownload --keywords \"panda\" --limit 700 --chromedriver ~/Downloads/chromedriver\n",
    "# googleimagesdownload --keywords \"panda animal\" --limit 700 --chromedriver ~/Downloads/chromedriver"
   ]
  },
  {
   "cell_type": "code",
   "execution_count": 21,
   "metadata": {},
   "outputs": [],
   "source": [
    "#Split and move first 700 panda pictures into train and test split\n",
    "first_700 = os.listdir('../../Downloads/panda/')\n",
    "\n",
    "#Split data into new folders, 80/20 split, without pandas folder\n",
    "current_path = '../../Downloads/panda/'\n",
    "current_folder = os.listdir(current_path)\n",
    "X = y= os.listdir(current_path)\n",
    "X_train, X_test, y_train, y_test = train_test_split(X, y, test_size=0.20, random_state=0)\n",
    "for x in X_train:\n",
    "    os.rename(current_path+x , 'animal_dataset/training_set/panda/'+x)\n",
    "for x in X_test:\n",
    "    os.rename(current_path+x , 'animal_dataset/val_set/panda/'+x)"
   ]
  },
  {
   "cell_type": "code",
   "execution_count": 22,
   "metadata": {},
   "outputs": [],
   "source": [
    "#Split and move second 700 panda pictures into train and test split\n",
    "second_700 = os.listdir('../../Downloads/panda animal/')\n",
    "\n",
    "#Split data into new folders, 80/20 split, without pandas folder\n",
    "current_path = '../../Downloads/panda animal/'\n",
    "current_folder = os.listdir(current_path)\n",
    "X = y= os.listdir(current_path)\n",
    "X_train, X_test, y_train, y_test = train_test_split(X, y, test_size=0.20, random_state=0)\n",
    "for x in X_train:\n",
    "    os.rename(current_path+x , 'animal_dataset/training_set/panda/'+x)\n",
    "for x in X_test:\n",
    "    os.rename(current_path+x , 'animal_dataset/val_set/panda/'+x)"
   ]
  },
  {
   "cell_type": "code",
   "execution_count": 24,
   "metadata": {},
   "outputs": [],
   "source": [
    "#Split and move third 500 panda pictures into train and test split\n",
    "third_500 = os.listdir('../../Downloads/panda head//')\n",
    "\n",
    "#Split data into new folders, 80/20 split, without pandas folder\n",
    "current_path = '../../Downloads/panda head/'\n",
    "current_folder = os.listdir(current_path)\n",
    "X = y= os.listdir(current_path)\n",
    "X_train, X_test, y_train, y_test = train_test_split(X, y, test_size=0.20, random_state=0)\n",
    "for x in X_train:\n",
    "    os.rename(current_path+x , 'animal_dataset/training_set/panda/'+x)\n",
    "for x in X_test:\n",
    "    os.rename(current_path+x , 'animal_dataset/val_set/panda/'+x)"
   ]
  },
  {
   "cell_type": "code",
   "execution_count": null,
   "metadata": {
    "collapsed": true
   },
   "outputs": [],
   "source": []
  },
  {
   "cell_type": "code",
   "execution_count": null,
   "metadata": {
    "collapsed": true
   },
   "outputs": [],
   "source": []
  },
  {
   "cell_type": "code",
   "execution_count": null,
   "metadata": {
    "collapsed": true
   },
   "outputs": [],
   "source": []
  },
  {
   "cell_type": "code",
   "execution_count": null,
   "metadata": {
    "collapsed": true
   },
   "outputs": [],
   "source": []
  },
  {
   "cell_type": "code",
   "execution_count": null,
   "metadata": {
    "collapsed": true
   },
   "outputs": [],
   "source": []
  },
  {
   "cell_type": "code",
   "execution_count": null,
   "metadata": {
    "collapsed": true
   },
   "outputs": [],
   "source": []
  },
  {
   "cell_type": "code",
   "execution_count": null,
   "metadata": {
    "collapsed": true
   },
   "outputs": [],
   "source": []
  }
 ],
 "metadata": {
  "kernelspec": {
   "display_name": "Python 3",
   "language": "python",
   "name": "python3"
  },
  "language_info": {
   "codemirror_mode": {
    "name": "ipython",
    "version": 3
   },
   "file_extension": ".py",
   "mimetype": "text/x-python",
   "name": "python",
   "nbconvert_exporter": "python",
   "pygments_lexer": "ipython3",
   "version": "3.6.3"
  }
 },
 "nbformat": 4,
 "nbformat_minor": 2
}
