{
 "cells": [
  {
   "cell_type": "code",
   "execution_count": 1,
   "metadata": {},
   "outputs": [],
   "source": [
    "#Try better"
   ]
  },
  {
   "cell_type": "code",
   "execution_count": 2,
   "metadata": {},
   "outputs": [
    {
     "name": "stderr",
     "output_type": "stream",
     "text": [
      "/home/ec2-user/anaconda3/lib/python3.6/site-packages/matplotlib/__init__.py:1067: UserWarning: Duplicate key in file \"/home/ec2-user/.config/matplotlib/matplotlibrc\", line #2\n",
      "  (fname, cnt))\n",
      "/home/ec2-user/anaconda3/lib/python3.6/site-packages/matplotlib/__init__.py:1067: UserWarning: Duplicate key in file \"/home/ec2-user/.config/matplotlib/matplotlibrc\", line #3\n",
      "  (fname, cnt))\n",
      "/home/ec2-user/anaconda3/lib/python3.6/site-packages/h5py/__init__.py:36: FutureWarning: Conversion of the second argument of issubdtype from `float` to `np.floating` is deprecated. In future, it will be treated as `np.float64 == np.dtype(float).type`.\n",
      "  from ._conv import register_converters as _register_converters\n",
      "Using TensorFlow backend.\n"
     ]
    }
   ],
   "source": [
    "#Import Necessary Packages\n",
    "import numpy as np\n",
    "import pandas as pd\n",
    "import matplotlib.pyplot as plt\n",
    "%matplotlib inline\n",
    "import os\n",
    "from PIL import Image\n",
    "import keras \n",
    "\n",
    "#Initialize Neural Network as Sequential Network\n",
    "from keras.models import Sequential\n",
    "\n",
    "from keras.models import model_from_json\n",
    "#Images are 2D arrays, so import Conv2D. If videos, import 3D with time as the third dimension\n",
    "from keras.layers import Convolution2D\n",
    "\n",
    "#Import Max Pooling because we need the highest value pixel from the area of interest\n",
    "from keras.layers import MaxPooling2D\n",
    "\n",
    "#Convert 2D arrays into a singular vector\n",
    "from keras.layers import Flatten\n",
    "\n",
    "#Perform full connection of neural network\n",
    "from keras.layers import Dense\n",
    "\n",
    "#Include random dropout nodes\n",
    "from keras.layers import Dropout\n",
    "\n",
    "#import image data generator library\n",
    "from keras.preprocessing.image import ImageDataGenerator\n",
    "\n",
    "#Image prepreprocessing\n",
    "from keras.preprocessing import image"
   ]
  },
  {
   "cell_type": "code",
   "execution_count": 3,
   "metadata": {},
   "outputs": [],
   "source": [
    "#Quick EDA"
   ]
  },
  {
   "cell_type": "code",
   "execution_count": 4,
   "metadata": {},
   "outputs": [
    {
     "name": "stdout",
     "output_type": "stream",
     "text": [
      "panda train pics: 1079\n",
      "not panda train pics: 1116\n",
      "panda val pics: 277\n",
      "not panda val pics: 352\n"
     ]
    }
   ],
   "source": [
    "#How many count of each class in each folder?\n",
    "pandas_train_count = len(os.listdir('animal_dataset/training_set/panda/'))\n",
    "print('panda train pics: ' + str(pandas_train_count))\n",
    "not_pandas_train_count = len(os.listdir('animal_dataset/training_set/not_panda/'))\n",
    "print('not panda train pics: ' + str(not_pandas_train_count))\n",
    "pandas_val_count = len(os.listdir('animal_dataset/val_set/panda/'))\n",
    "print('panda val pics: ' + str(pandas_val_count))\n",
    "not_pandas_val_count = len(os.listdir('animal_dataset/val_set/not_panda/'))\n",
    "print('not panda val pics: ' + str(not_pandas_val_count))"
   ]
  },
  {
   "cell_type": "code",
   "execution_count": 5,
   "metadata": {},
   "outputs": [
    {
     "data": {
      "text/plain": [
       "0.49157175398633257"
      ]
     },
     "execution_count": 5,
     "metadata": {},
     "output_type": "execute_result"
    }
   ],
   "source": [
    "train_class_imbalance = pandas_train_count/(pandas_train_count+not_pandas_train_count)\n",
    "train_class_imbalance"
   ]
  },
  {
   "cell_type": "code",
   "execution_count": 6,
   "metadata": {},
   "outputs": [],
   "source": [
    "#Multiple Convolutional CNN with dropout"
   ]
  },
  {
   "cell_type": "code",
   "execution_count": 7,
   "metadata": {},
   "outputs": [],
   "source": [
    "classifier2 = Sequential()\n",
    "#32 feature detectors of 3 by 3 dimensions, to create 32 feature maps\n",
    "classifier2.add(Convolution2D(32,(3,3), input_shape=(64,64,3), activation='relu'))\n",
    "#Pooling size 2 by 2, pick the largest value pixel\n",
    "classifier2.add(MaxPooling2D(pool_size=(2,2)))\n",
    "#Add second convolution\n",
    "classifier2.add(Convolution2D(32,(3,3), input_shape=(64,64,3), activation='relu'))\n",
    "#Pooling of second convolutional layer\n",
    "classifier2.add(MaxPooling2D(pool_size=(2,2)))\n",
    "#Add third convolution with 64 feature extractors\n",
    "classifier2.add(Convolution2D(64,(3,3), input_shape=(64,64,3), activation='relu'))\n",
    "#Pooling of second convolutional layer\n",
    "classifier2.add(MaxPooling2D(pool_size=(3,3)))\n",
    "#Flatten to feed into ANN\n",
    "classifier2.add(Flatten())\n",
    "#128 hidden nodes in the hidden layer\n",
    "classifier2.add(Dense(units = 128, activation='relu'))\n",
    "# classifier2.add(Dropout(0.5))\n",
    "classifier2.add(Dense(units = 1, activation='sigmoid'))\n",
    "classifier2.compile(optimizer='adam', loss = 'binary_crossentropy', metrics=['accuracy'])"
   ]
  },
  {
   "cell_type": "code",
   "execution_count": 6,
   "metadata": {},
   "outputs": [
    {
     "name": "stdout",
     "output_type": "stream",
     "text": [
      "Found 2177 images belonging to 2 classes.\n",
      "Found 622 images belonging to 2 classes.\n"
     ]
    }
   ],
   "source": [
    "#rescale all pixel values between 0 and 1\n",
    "#shear range to apply random tranvections, keep default\n",
    "train_datagen = ImageDataGenerator(rescale=1./255, shear_range=0.2, zoom_range = 0.2, horizontal_flip=True)\n",
    "#rescale test dataset too\n",
    "test_datagen = ImageDataGenerator(rescale=1./255)\n",
    "training_set = train_datagen.flow_from_directory('animal_dataset/training_set/',\n",
    "                                                target_size = (64,64),\n",
    "                                                batch_size = 32, \n",
    "                                                class_mode = 'binary')\n",
    "test_set = test_datagen.flow_from_directory('animal_dataset/val_set/',\n",
    "                                           target_size = (64, 64),\n",
    "                                           batch_size = 32,\n",
    "                                           class_mode = 'binary')"
   ]
  },
  {
   "cell_type": "code",
   "execution_count": 9,
   "metadata": {},
   "outputs": [
    {
     "name": "stderr",
     "output_type": "stream",
     "text": [
      "/home/ec2-user/anaconda3/lib/python3.6/site-packages/ipykernel_launcher.py:5: UserWarning: The semantics of the Keras 2 argument `steps_per_epoch` is not the same as the Keras 1 argument `samples_per_epoch`. `steps_per_epoch` is the number of batches to draw from the generator at each epoch. Basically steps_per_epoch = samples_per_epoch/batch_size. Similarly `nb_val_samples`->`validation_steps` and `val_samples`->`steps` arguments have changed. Update your method calls accordingly.\n",
      "  \"\"\"\n",
      "/home/ec2-user/anaconda3/lib/python3.6/site-packages/ipykernel_launcher.py:5: UserWarning: Update your `fit_generator` call to the Keras 2 API: `fit_generator(<keras.pre..., steps_per_epoch=3179, validation_data=<keras.pre..., epochs=10, validation_steps=816)`\n",
      "  \"\"\"\n"
     ]
    },
    {
     "name": "stdout",
     "output_type": "stream",
     "text": [
      "Epoch 1/10\n",
      "  16/3179 [..............................] - ETA: 16:27 - loss: 0.7036 - acc: 0.5410"
     ]
    },
    {
     "name": "stderr",
     "output_type": "stream",
     "text": [
      "/home/ec2-user/anaconda3/lib/python3.6/site-packages/PIL/Image.py:916: UserWarning: Palette images with Transparency   expressed in bytes should be converted to RGBA images\n",
      "  'to RGBA images')\n"
     ]
    },
    {
     "name": "stdout",
     "output_type": "stream",
     "text": [
      "3179/3179 [==============================] - 1218s 383ms/step - loss: 0.0950 - acc: 0.9616 - val_loss: 0.2564 - val_acc: 0.9343\n",
      "Epoch 2/10\n",
      "3179/3179 [==============================] - 1216s 383ms/step - loss: 0.0146 - acc: 0.9951 - val_loss: 0.1633 - val_acc: 0.9598\n",
      "Epoch 3/10\n",
      "3179/3179 [==============================] - 1217s 383ms/step - loss: 0.0083 - acc: 0.9972 - val_loss: 0.1109 - val_acc: 0.9759\n",
      "Epoch 4/10\n",
      "3179/3179 [==============================] - 1216s 383ms/step - loss: 0.0059 - acc: 0.9979 - val_loss: 0.1229 - val_acc: 0.9743\n",
      "Epoch 5/10\n",
      "3179/3179 [==============================] - 1215s 382ms/step - loss: 0.0051 - acc: 0.9983 - val_loss: 0.1624 - val_acc: 0.9629\n",
      "Epoch 6/10\n",
      "3179/3179 [==============================] - 1218s 383ms/step - loss: 0.0054 - acc: 0.9985 - val_loss: 0.1722 - val_acc: 0.9663\n",
      "Epoch 7/10\n",
      "3179/3179 [==============================] - 1215s 382ms/step - loss: 0.0035 - acc: 0.9988 - val_loss: 0.2566 - val_acc: 0.9550\n",
      "Epoch 8/10\n",
      "3179/3179 [==============================] - 1215s 382ms/step - loss: 0.0032 - acc: 0.9990 - val_loss: 0.1736 - val_acc: 0.9616\n",
      "Epoch 9/10\n",
      "3179/3179 [==============================] - 1217s 383ms/step - loss: 0.0029 - acc: 0.9991 - val_loss: 0.2229 - val_acc: 0.9599\n",
      "Epoch 10/10\n",
      "3179/3179 [==============================] - 1215s 382ms/step - loss: 0.0037 - acc: 0.9989 - val_loss: 0.3081 - val_acc: 0.9598\n"
     ]
    },
    {
     "data": {
      "text/plain": [
       "<keras.callbacks.History at 0x7f912517aac8>"
      ]
     },
     "execution_count": 9,
     "metadata": {},
     "output_type": "execute_result"
    }
   ],
   "source": [
    "classifier2.fit_generator(training_set,\n",
    "                   steps_per_epoch = 3179,\n",
    "                   nb_epoch = 10,\n",
    "                   validation_data = test_set,\n",
    "                   nb_val_samples = 816)"
   ]
  },
  {
   "cell_type": "code",
   "execution_count": 10,
   "metadata": {},
   "outputs": [
    {
     "name": "stdout",
     "output_type": "stream",
     "text": [
      "Saved model to disk\n"
     ]
    }
   ],
   "source": []
  },
  {
   "cell_type": "code",
   "execution_count": 10,
   "metadata": {},
   "outputs": [
    {
     "name": "stdout",
     "output_type": "stream",
     "text": [
      "count\n",
      "1116\n",
      "not pandas\n",
      "597\n"
     ]
    }
   ],
   "source": [
    "#Double check accuracy\n",
    "not_panda = 0\n",
    "i = 0\n",
    "count = 0\n",
    "for x in os.listdir('animal_dataset/training_set/not_panda/'):\n",
    "    count += 1\n",
    "    if x != '.DS_Store':\n",
    "        image_path = 'animal_dataset/training_set/not_panda/' + x\n",
    "        test_image = image.load_img(image_path, target_size=(64,64))\n",
    "        test_image = image.img_to_array(test_image)\n",
    "        test_image = np.expand_dims(test_image, axis=0)\n",
    "        result = loaded_model.predict(test_image)\n",
    "\n",
    "        if result[0][0] == 1:\n",
    "            prediction = 'panda'\n",
    "        elif result[0][0] == 0:\n",
    "            prediction = 'not panda'\n",
    "            not_panda += 1\n",
    "            i += 1\n",
    "print('count')\n",
    "print(count)\n",
    "print('not pandas')\n",
    "print(not_panda)"
   ]
  },
  {
   "cell_type": "code",
   "execution_count": null,
   "metadata": {},
   "outputs": [],
   "source": []
  },
  {
   "cell_type": "code",
   "execution_count": 8,
   "metadata": {},
   "outputs": [
    {
     "name": "stdout",
     "output_type": "stream",
     "text": [
      "Loaded model from disk\n"
     ]
    }
   ],
   "source": [
    "\n",
    "# load json and create model\n",
    "json_file = open('classifier2.json', 'r')\n",
    "loaded_model_json = json_file.read()\n",
    "json_file.close()\n",
    "loaded_model = model_from_json(loaded_model_json)\n",
    "# load weights into new model\n",
    "loaded_model.load_weights(\"classifier2.h5\")\n",
    "print(\"Loaded model from disk\")"
   ]
  },
  {
   "cell_type": "code",
   "execution_count": 9,
   "metadata": {},
   "outputs": [
    {
     "name": "stdout",
     "output_type": "stream",
     "text": [
      "count\n",
      "1116\n",
      "not pandas\n",
      "597\n"
     ]
    }
   ],
   "source": [
    "#Double check accuracy\n",
    "not_panda = 0\n",
    "i = 0\n",
    "count = 0\n",
    "for x in os.listdir('animal_dataset/training_set/not_panda/'):\n",
    "    count += 1\n",
    "    if x != '.DS_Store':\n",
    "        image_path = 'animal_dataset/training_set/not_panda/' + x\n",
    "        test_image = image.load_img(image_path, target_size=(64,64))\n",
    "        test_image = image.img_to_array(test_image)\n",
    "        test_image = np.expand_dims(test_image, axis=0)\n",
    "        result = loaded_model.predict(test_image)\n",
    "\n",
    "        if result[0][0] == 1:\n",
    "            prediction = 'panda'\n",
    "        elif result[0][0] == 0:\n",
    "            prediction = 'not panda'\n",
    "            not_panda += 1\n",
    "            i += 1\n",
    "print('count')\n",
    "print(count)\n",
    "print('not pandas')\n",
    "print(not_panda)"
   ]
  },
  {
   "cell_type": "code",
   "execution_count": null,
   "metadata": {},
   "outputs": [],
   "source": []
  },
  {
   "cell_type": "code",
   "execution_count": 14,
   "metadata": {},
   "outputs": [
    {
     "name": "stdout",
     "output_type": "stream",
     "text": [
      "Saved model to disk\n"
     ]
    }
   ],
   "source": [
    "# serialize model to JSON\n",
    "model_json = classifier2.to_json()\n",
    "with open(\"classifier2.json\", \"w\") as json_file:\n",
    "    json_file.write(model_json)\n",
    "# serialize weights to HDF5\n",
    "classifier2.save_weights(\"classifier2.h5\")\n",
    "print(\"Saved model to disk\")"
   ]
  },
  {
   "cell_type": "code",
   "execution_count": null,
   "metadata": {},
   "outputs": [],
   "source": []
  },
  {
   "cell_type": "code",
   "execution_count": 27,
   "metadata": {},
   "outputs": [
    {
     "name": "stdout",
     "output_type": "stream",
     "text": [
      "Saved model to disk\n"
     ]
    }
   ],
   "source": [
    "# serialize model to JSON\n",
    "model_json = classifier2.to_json()\n",
    "with open(\"classifier2.json\", \"w\") as json_file:\n",
    "    json_file.write(model_json)\n",
    "# serialize weights to HDF5\n",
    "classifier2.save_weights(\"classifier2.h5\")\n",
    "print(\"Saved model to disk\")"
   ]
  },
  {
   "cell_type": "code",
   "execution_count": null,
   "metadata": {},
   "outputs": [],
   "source": []
  },
  {
   "cell_type": "code",
   "execution_count": 4,
   "metadata": {},
   "outputs": [
    {
     "name": "stdout",
     "output_type": "stream",
     "text": [
      "Loaded model from disk\n"
     ]
    }
   ],
   "source": [
    "\n",
    "# load json and create model\n",
    "json_file = open('classifier2.json', 'r')\n",
    "loaded_model_json = json_file.read()\n",
    "json_file.close()\n",
    "loaded_model = model_from_json(loaded_model_json)\n",
    "# load weights into new model\n",
    "loaded_model.load_weights(\"classifier2.h5\")\n",
    "print(\"Loaded model from disk\")"
   ]
  },
  {
   "cell_type": "code",
   "execution_count": null,
   "metadata": {},
   "outputs": [],
   "source": []
  },
  {
   "cell_type": "code",
   "execution_count": 31,
   "metadata": {},
   "outputs": [
    {
     "data": {
      "text/plain": [
       "array([[0.]], dtype=float32)"
      ]
     },
     "execution_count": 31,
     "metadata": {},
     "output_type": "execute_result"
    }
   ],
   "source": [
    "loaded_model.predict(test_image)"
   ]
  },
  {
   "cell_type": "code",
   "execution_count": 12,
   "metadata": {},
   "outputs": [
    {
     "data": {
      "text/plain": [
       "'panda'"
      ]
     },
     "execution_count": 12,
     "metadata": {},
     "output_type": "execute_result"
    },
    {
     "data": {
      "image/png": "[encoded data removed]",
      "text/plain": [
       "<Figure size 432x288 with 1 Axes>"
      ]
     },
     "metadata": {},
     "output_type": "display_data"
    }
   ],
   "source": [
    "test_image = image.load_img('animal_dataset/prediction_set/building.jpeg', target_size=(64,64))\n",
    "plt.imshow(test_image)\n",
    "test_image = image.img_to_array(test_image)\n",
    "test_image = np.expand_dims(test_image, axis=0)\n",
    "result = loaded_model.predict(test_image)\n",
    "if result[0][0] == 1:\n",
    "    prediction = 'panda'\n",
    "else:\n",
    "    prediction = 'not panda'\n",
    "prediction"
   ]
  },
  {
   "cell_type": "code",
   "execution_count": 11,
   "metadata": {},
   "outputs": [
    {
     "data": {
      "text/plain": [
       "'not panda'"
      ]
     },
     "execution_count": 11,
     "metadata": {},
     "output_type": "execute_result"
    },
    {
     "data": {
      "image/png": "[encoded data removed]",
      "text/plain": [
       "<Figure size 432x288 with 1 Axes>"
      ]
     },
     "metadata": {},
     "output_type": "display_data"
    }
   ],
   "source": [
    "test_image = image.load_img('animal_dataset/prediction_set/red.jpeg', target_size=(64,64))\n",
    "plt.imshow(test_image)\n",
    "test_image = image.img_to_array(test_image)\n",
    "test_image = np.expand_dims(test_image, axis=0)\n",
    "result = loaded_model.predict(test_image)\n",
    "if result[0][0] == 1:\n",
    "    prediction = 'panda'\n",
    "elif result[0][0] == 0:\n",
    "    prediction = 'not panda'\n",
    "prediction"
   ]
  },
  {
   "cell_type": "code",
   "execution_count": 23,
   "metadata": {},
   "outputs": [
    {
     "data": {
      "text/plain": [
       "'not panda'"
      ]
     },
     "execution_count": 23,
     "metadata": {},
     "output_type": "execute_result"
    },
    {
     "data": {
      "image/png": "[encoded data removed]",
      "text/plain": [
       "<Figure size 432x288 with 1 Axes>"
      ]
     },
     "metadata": {},
     "output_type": "display_data"
    }
   ],
   "source": [
    "test_image = image.load_img('animal_dataset/training_set/not_panda/Fallow-Deer-50.jpg', target_size=(64,64))\n",
    "plt.imshow(test_image)\n",
    "test_image = image.img_to_array(test_image)\n",
    "test_image = np.expand_dims(test_image, axis=0)\n",
    "result = loaded_model.predict(test_image)\n",
    "if result[0][0] == 1:\n",
    "    prediction = 'panda'\n",
    "elif result[0][0] == 0:\n",
    "    prediction = 'not panda'\n",
    "prediction"
   ]
  },
  {
   "cell_type": "code",
   "execution_count": null,
   "metadata": {},
   "outputs": [],
   "source": []
  }
 ],
 "metadata": {
  "kernelspec": {
   "display_name": "Python 3",
   "language": "python",
   "name": "python3"
  },
  "language_info": {
   "codemirror_mode": {
    "name": "ipython",
    "version": 3
   },
   "file_extension": ".py",
   "mimetype": "text/x-python",
   "name": "python",
   "nbconvert_exporter": "python",
   "pygments_lexer": "ipython3",
   "version": "3.6.4"
  }
 },
 "nbformat": 4,
 "nbformat_minor": 2
}
