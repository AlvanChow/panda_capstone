{
 "cells": [
  {
   "cell_type": "code",
   "execution_count": 84,
   "metadata": {
    "collapsed": true
   },
   "outputs": [],
   "source": [
    "#Import Necessary Packages\n",
    "import numpy as np\n",
    "import pandas as pd\n",
    "import matplotlib.pyplot as plt\n",
    "%matplotlib inline\n",
    "import os\n",
    "from PIL import Image\n",
    "\n",
    "#Initialize Neural Network as Sequential Network\n",
    "from keras.models import Sequential\n",
    "\n",
    "#Images are 2D arrays, so import Conv2D. If videos, import 3D with time as the third dimension\n",
    "from keras.layers import Conv2D\n",
    "\n",
    "#Import Max Pooling because we need the highest value pixel from the area of interest\n",
    "from keras.layers import MaxPooling2D\n",
    "\n",
    "#Convert 2D arrays into a singular vector\n",
    "from keras.layers import Flatten\n",
    "\n",
    "#Perform full connection of neural network\n",
    "from keras.layers import Dense\n",
    "\n",
    "#Image prepreprocessing\n",
    "from keras.preprocessing import image"
   ]
  },
  {
   "cell_type": "code",
   "execution_count": null,
   "metadata": {
    "collapsed": true
   },
   "outputs": [],
   "source": [
    "#Remove junk images from google search"
   ]
  },
  {
   "cell_type": "code",
   "execution_count": 108,
   "metadata": {},
   "outputs": [
    {
     "data": {
      "text/plain": [
       "['training_set', 'val_set']"
      ]
     },
     "execution_count": 108,
     "metadata": {},
     "output_type": "execute_result"
    }
   ],
   "source": [
    "train_val_folders = os.listdir('animal_dataset/')\n",
    "train_val_folders.remove('.DS_Store')\n",
    "train_val_folders"
   ]
  },
  {
   "cell_type": "code",
   "execution_count": 110,
   "metadata": {},
   "outputs": [
    {
     "data": {
      "text/plain": [
       "['.DS_Store', 'panda', 'not_panda']"
      ]
     },
     "execution_count": 110,
     "metadata": {},
     "output_type": "execute_result"
    }
   ],
   "source": [
    "panda_not_panda = os.listdir('animal_dataset/'+'training_set')"
   ]
  },
  {
   "cell_type": "code",
   "execution_count": 128,
   "metadata": {
    "collapsed": true
   },
   "outputs": [],
   "source": [
    "for train_val_folder in train_val_folders:\n",
    "    for panda_not_panda in os.listdir('animal_dataset/'+train_val_folder):\n",
    "        if panda_not_panda != \".DS_Store\":\n",
    "            for image in os.listdir('animal_dataset/'+train_val_folder+'/'+panda_not_panda):\n",
    "                if image != \".DS_Store\":\n",
    "                    while True:\n",
    "                        try:\n",
    "                            im = Image.open('animal_dataset/'+train_val_folder+'/'+panda_not_panda+'/'+image)\n",
    "                            break\n",
    "                            \n",
    "                            \n",
    "                        except OSError:\n",
    "                            print(image)\n",
    "                            print(\"Oops!  Bad Pic\")\n",
    "                            os.remove('animal_dataset/'+train_val_folder+'/'+panda_not_panda+'/'+image)\n",
    "                            print('removed' +image)\n",
    "                            \n",
    "\n",
    "                    \n",
    "            "
   ]
  },
  {
   "cell_type": "code",
   "execution_count": 130,
   "metadata": {
    "collapsed": true
   },
   "outputs": [],
   "source": [
    "#Remove all troublesome pictures\n",
    "for folder in os.listdir('animal_dataset/'):\n",
    "    for image in os.listdir('animal_dataset/training_set/panda/'):\n",
    "        while True:\n",
    "            try:\n",
    "                im = Image.open('animal_dataset/training_set/panda/'+image)\n",
    "\n",
    "                break\n",
    "            except OSError:\n",
    "                print(image)\n",
    "                print(\"Oops!  Bad Pic\")\n",
    "                os.remove('animal_dataset/training_set/panda/'+image)\n",
    "                print('removed' +image)\n",
    "                break"
   ]
  },
  {
   "cell_type": "code",
   "execution_count": null,
   "metadata": {
    "collapsed": true
   },
   "outputs": [],
   "source": []
  },
  {
   "cell_type": "code",
   "execution_count": null,
   "metadata": {
    "collapsed": true
   },
   "outputs": [],
   "source": []
  },
  {
   "cell_type": "code",
   "execution_count": 119,
   "metadata": {
    "collapsed": true
   },
   "outputs": [],
   "source": [
    "#Quick EDA"
   ]
  },
  {
   "cell_type": "code",
   "execution_count": 120,
   "metadata": {},
   "outputs": [
    {
     "data": {
      "text/plain": [
       "1450"
      ]
     },
     "execution_count": 120,
     "metadata": {},
     "output_type": "execute_result"
    }
   ],
   "source": [
    "#How many count of each class in each folder?\n",
    "pandas_train_count = len(os.listdir('animal_dataset/training_set/panda/'))\n",
    "pandas_train_count"
   ]
  },
  {
   "cell_type": "code",
   "execution_count": 121,
   "metadata": {},
   "outputs": [
    {
     "data": {
      "text/plain": [
       "1749"
      ]
     },
     "execution_count": 121,
     "metadata": {},
     "output_type": "execute_result"
    }
   ],
   "source": [
    "not_pandas_train_count = len(os.listdir('animal_dataset/training_set/not_panda/'))\n",
    "not_pandas_train_count"
   ]
  },
  {
   "cell_type": "code",
   "execution_count": 122,
   "metadata": {},
   "outputs": [
    {
     "data": {
      "text/plain": [
       "367"
      ]
     },
     "execution_count": 122,
     "metadata": {},
     "output_type": "execute_result"
    }
   ],
   "source": [
    "pandas_val_count = len(os.listdir('animal_dataset/val_set/panda/'))\n",
    "pandas_val_count"
   ]
  },
  {
   "cell_type": "code",
   "execution_count": 123,
   "metadata": {},
   "outputs": [
    {
     "data": {
      "text/plain": [
       "459"
      ]
     },
     "execution_count": 123,
     "metadata": {},
     "output_type": "execute_result"
    }
   ],
   "source": [
    "not_pandas_val_count = len(os.listdir('animal_dataset/val_set/not_panda/'))\n",
    "not_pandas_val_count"
   ]
  },
  {
   "cell_type": "code",
   "execution_count": 124,
   "metadata": {},
   "outputs": [
    {
     "data": {
      "text/plain": [
       "0.45326664582682086"
      ]
     },
     "execution_count": 124,
     "metadata": {},
     "output_type": "execute_result"
    }
   ],
   "source": [
    "train_class_imbalance = pandas_train_count/(pandas_train_count+not_pandas_train_count)\n",
    "train_class_imbalance"
   ]
  },
  {
   "cell_type": "code",
   "execution_count": 125,
   "metadata": {
    "collapsed": true
   },
   "outputs": [],
   "source": [
    "#Baseline model prediction = 0.46 chance of being a Panda"
   ]
  },
  {
   "cell_type": "code",
   "execution_count": null,
   "metadata": {
    "collapsed": true
   },
   "outputs": [],
   "source": []
  },
  {
   "cell_type": "code",
   "execution_count": 61,
   "metadata": {
    "collapsed": true
   },
   "outputs": [],
   "source": [
    "#Create Sequential Neural Network"
   ]
  },
  {
   "cell_type": "code",
   "execution_count": 1,
   "metadata": {},
   "outputs": [
    {
     "ename": "NameError",
     "evalue": "name 'Sequential' is not defined",
     "output_type": "error",
     "traceback": [
      "\u001b[0;31m---------------------------------------------------------------------------\u001b[0m",
      "\u001b[0;31mNameError\u001b[0m                                 Traceback (most recent call last)",
      "\u001b[0;32m<ipython-input-1-24a4d47a09aa>\u001b[0m in \u001b[0;36m<module>\u001b[0;34m()\u001b[0m\n\u001b[0;32m----> 1\u001b[0;31m \u001b[0mmodel\u001b[0m \u001b[0;34m=\u001b[0m \u001b[0mSequential\u001b[0m\u001b[0;34m(\u001b[0m\u001b[0;34m)\u001b[0m\u001b[0;34m\u001b[0m\u001b[0m\n\u001b[0m",
      "\u001b[0;31mNameError\u001b[0m: name 'Sequential' is not defined"
     ]
    }
   ],
   "source": [
    "model = Sequential()"
   ]
  },
  {
   "cell_type": "code",
   "execution_count": null,
   "metadata": {
    "collapsed": true
   },
   "outputs": [],
   "source": []
  },
  {
   "cell_type": "code",
   "execution_count": null,
   "metadata": {
    "collapsed": true
   },
   "outputs": [],
   "source": []
  },
  {
   "cell_type": "code",
   "execution_count": null,
   "metadata": {
    "collapsed": true
   },
   "outputs": [],
   "source": []
  }
 ],
 "metadata": {
  "kernelspec": {
   "display_name": "Python 3",
   "language": "python",
   "name": "python3"
  },
  "language_info": {
   "codemirror_mode": {
    "name": "ipython",
    "version": 3
   },
   "file_extension": ".py",
   "mimetype": "text/x-python",
   "name": "python",
   "nbconvert_exporter": "python",
   "pygments_lexer": "ipython3",
   "version": "3.6.3"
  }
 },
 "nbformat": 4,
 "nbformat_minor": 2
}
